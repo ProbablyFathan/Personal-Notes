{
 "cells": [
  {
   "cell_type": "markdown",
   "id": "2e68989b-a99e-4f1b-9584-afa3c78c9ec5",
   "metadata": {
    "jp-MarkdownHeadingCollapsed": true,
    "tags": []
   },
   "source": [
    "# **01. Import Module**\n",
    "\n"
   ]
  },
  {
   "cell_type": "code",
   "execution_count": 2,
   "id": "6a123fe7-a5b2-453e-a612-5a1589a93bb6",
   "metadata": {},
   "outputs": [],
   "source": [
    "import pandas as pd"
   ]
  },
  {
   "cell_type": "markdown",
   "id": "47320829-70aa-4705-8c8f-938537ac2cea",
   "metadata": {
    "jp-MarkdownHeadingCollapsed": true,
    "tags": []
   },
   "source": [
    "# **02. Import File**"
   ]
  },
  {
   "cell_type": "code",
   "execution_count": 3,
   "id": "9a23dba0-0de5-4f38-accf-bf3834a6b5cc",
   "metadata": {},
   "outputs": [
    {
     "data": {
      "text/html": [
       "<div>\n",
       "<style scoped>\n",
       "    .dataframe tbody tr th:only-of-type {\n",
       "        vertical-align: middle;\n",
       "    }\n",
       "\n",
       "    .dataframe tbody tr th {\n",
       "        vertical-align: top;\n",
       "    }\n",
       "\n",
       "    .dataframe thead th {\n",
       "        text-align: right;\n",
       "    }\n",
       "</style>\n",
       "<table border=\"1\" class=\"dataframe\">\n",
       "  <thead>\n",
       "    <tr style=\"text-align: right;\">\n",
       "      <th></th>\n",
       "      <th>Name</th>\n",
       "      <th>Mth</th>\n",
       "      <th>Phy</th>\n",
       "      <th>Chm</th>\n",
       "      <th>Bio</th>\n",
       "    </tr>\n",
       "  </thead>\n",
       "  <tbody>\n",
       "    <tr>\n",
       "      <th>0</th>\n",
       "      <td>Andi</td>\n",
       "      <td>86</td>\n",
       "      <td>62</td>\n",
       "      <td>43.0</td>\n",
       "      <td>23</td>\n",
       "    </tr>\n",
       "    <tr>\n",
       "      <th>1</th>\n",
       "      <td>Bambang</td>\n",
       "      <td>56</td>\n",
       "      <td>75</td>\n",
       "      <td>53.0</td>\n",
       "      <td>85</td>\n",
       "    </tr>\n",
       "    <tr>\n",
       "      <th>2</th>\n",
       "      <td>Candra</td>\n",
       "      <td>4</td>\n",
       "      <td>75</td>\n",
       "      <td>42.0</td>\n",
       "      <td>21</td>\n",
       "    </tr>\n",
       "    <tr>\n",
       "      <th>3</th>\n",
       "      <td>Dido</td>\n",
       "      <td>24</td>\n",
       "      <td>52</td>\n",
       "      <td>12.0</td>\n",
       "      <td>52</td>\n",
       "    </tr>\n",
       "    <tr>\n",
       "      <th>4</th>\n",
       "      <td>Dido</td>\n",
       "      <td>74</td>\n",
       "      <td>24</td>\n",
       "      <td>74.0</td>\n",
       "      <td>32</td>\n",
       "    </tr>\n",
       "    <tr>\n",
       "      <th>5</th>\n",
       "      <td>Erik</td>\n",
       "      <td>23</td>\n",
       "      <td>64</td>\n",
       "      <td>NaN</td>\n",
       "      <td>31</td>\n",
       "    </tr>\n",
       "    <tr>\n",
       "      <th>6</th>\n",
       "      <td>NaN</td>\n",
       "      <td>34</td>\n",
       "      <td>45</td>\n",
       "      <td>52.0</td>\n",
       "      <td>14</td>\n",
       "    </tr>\n",
       "    <tr>\n",
       "      <th>7</th>\n",
       "      <td>Gandi</td>\n",
       "      <td>70</td>\n",
       "      <td>70</td>\n",
       "      <td>70.0</td>\n",
       "      <td>70</td>\n",
       "    </tr>\n",
       "    <tr>\n",
       "      <th>8</th>\n",
       "      <td>Gandi</td>\n",
       "      <td>70</td>\n",
       "      <td>70</td>\n",
       "      <td>70.0</td>\n",
       "      <td>70</td>\n",
       "    </tr>\n",
       "  </tbody>\n",
       "</table>\n",
       "</div>"
      ],
      "text/plain": [
       "      Name  Mth  Phy   Chm  Bio\n",
       "0     Andi   86   62  43.0   23\n",
       "1  Bambang   56   75  53.0   85\n",
       "2   Candra    4   75  42.0   21\n",
       "3     Dido   24   52  12.0   52\n",
       "4     Dido   74   24  74.0   32\n",
       "5     Erik   23   64   NaN   31\n",
       "6      NaN   34   45  52.0   14\n",
       "7    Gandi   70   70  70.0   70\n",
       "8    Gandi   70   70  70.0   70"
      ]
     },
     "execution_count": 3,
     "metadata": {},
     "output_type": "execute_result"
    }
   ],
   "source": [
    "#Excel (.xlsx)\n",
    "data = pd.read_excel(\"Nilai Kelas.xlsx\")\n",
    "data"
   ]
  },
  {
   "cell_type": "code",
   "execution_count": 4,
   "id": "c4d0d76b-601b-4d7c-b6fd-9b26a55b0772",
   "metadata": {},
   "outputs": [
    {
     "data": {
      "text/html": [
       "<div>\n",
       "<style scoped>\n",
       "    .dataframe tbody tr th:only-of-type {\n",
       "        vertical-align: middle;\n",
       "    }\n",
       "\n",
       "    .dataframe tbody tr th {\n",
       "        vertical-align: top;\n",
       "    }\n",
       "\n",
       "    .dataframe thead th {\n",
       "        text-align: right;\n",
       "    }\n",
       "</style>\n",
       "<table border=\"1\" class=\"dataframe\">\n",
       "  <thead>\n",
       "    <tr style=\"text-align: right;\">\n",
       "      <th></th>\n",
       "      <th>Name</th>\n",
       "      <th>Mth</th>\n",
       "      <th>Phy</th>\n",
       "      <th>Chm</th>\n",
       "      <th>Bio</th>\n",
       "    </tr>\n",
       "  </thead>\n",
       "  <tbody>\n",
       "    <tr>\n",
       "      <th>0</th>\n",
       "      <td>Andi</td>\n",
       "      <td>86</td>\n",
       "      <td>62</td>\n",
       "      <td>43.0</td>\n",
       "      <td>23</td>\n",
       "    </tr>\n",
       "    <tr>\n",
       "      <th>1</th>\n",
       "      <td>Bambang</td>\n",
       "      <td>56</td>\n",
       "      <td>75</td>\n",
       "      <td>53.0</td>\n",
       "      <td>85</td>\n",
       "    </tr>\n",
       "    <tr>\n",
       "      <th>2</th>\n",
       "      <td>Candra</td>\n",
       "      <td>4</td>\n",
       "      <td>75</td>\n",
       "      <td>42.0</td>\n",
       "      <td>21</td>\n",
       "    </tr>\n",
       "    <tr>\n",
       "      <th>3</th>\n",
       "      <td>Dido</td>\n",
       "      <td>24</td>\n",
       "      <td>52</td>\n",
       "      <td>12.0</td>\n",
       "      <td>52</td>\n",
       "    </tr>\n",
       "    <tr>\n",
       "      <th>4</th>\n",
       "      <td>Dido</td>\n",
       "      <td>74</td>\n",
       "      <td>24</td>\n",
       "      <td>74.0</td>\n",
       "      <td>32</td>\n",
       "    </tr>\n",
       "    <tr>\n",
       "      <th>5</th>\n",
       "      <td>Erik</td>\n",
       "      <td>23</td>\n",
       "      <td>64</td>\n",
       "      <td>NaN</td>\n",
       "      <td>31</td>\n",
       "    </tr>\n",
       "    <tr>\n",
       "      <th>6</th>\n",
       "      <td>NaN</td>\n",
       "      <td>34</td>\n",
       "      <td>45</td>\n",
       "      <td>52.0</td>\n",
       "      <td>14</td>\n",
       "    </tr>\n",
       "    <tr>\n",
       "      <th>7</th>\n",
       "      <td>Gandi</td>\n",
       "      <td>70</td>\n",
       "      <td>70</td>\n",
       "      <td>70.0</td>\n",
       "      <td>70</td>\n",
       "    </tr>\n",
       "  </tbody>\n",
       "</table>\n",
       "</div>"
      ],
      "text/plain": [
       "      Name  Mth  Phy   Chm  Bio\n",
       "0     Andi   86   62  43.0   23\n",
       "1  Bambang   56   75  53.0   85\n",
       "2   Candra    4   75  42.0   21\n",
       "3     Dido   24   52  12.0   52\n",
       "4     Dido   74   24  74.0   32\n",
       "5     Erik   23   64   NaN   31\n",
       "6      NaN   34   45  52.0   14\n",
       "7    Gandi   70   70  70.0   70"
      ]
     },
     "execution_count": 4,
     "metadata": {},
     "output_type": "execute_result"
    }
   ],
   "source": [
    "#Comma sapparated value (csv)\n",
    "data = pd.read_csv(\"Nilai Kelas.csv\", sep=\";\")\n",
    "data"
   ]
  },
  {
   "cell_type": "markdown",
   "id": "a72ec551-113e-42ba-958a-db033ec5b9be",
   "metadata": {
    "jp-MarkdownHeadingCollapsed": true,
    "tags": []
   },
   "source": [
    "# **03. Create New Data**"
   ]
  },
  {
   "cell_type": "code",
   "execution_count": null,
   "id": "eb047961-1aa3-49eb-a938-3098dd01d85d",
   "metadata": {},
   "outputs": [],
   "source": [
    "#Data Frame from Dictionary\n",
    "dicData = {\n",
    "    'Cars': [\"Andi\", \"Bambang\", \"Candra\",\"Dido\"],\n",
    "    'Mth': [86, 56,  4, 24],\n",
    "    'Phy': [62, 75, 72, 52]\n",
    "}\n",
    "newData = pd.DataFrame(dicData)\n",
    "newData"
   ]
  },
  {
   "cell_type": "code",
   "execution_count": null,
   "id": "4579be85-076f-4a4f-a9d7-1d83a4c586a0",
   "metadata": {},
   "outputs": [],
   "source": [
    "#Create Series\n",
    "val = [86, 56,  4, 24]\n",
    "mth = pd.Series(val)\n",
    "mth"
   ]
  },
  {
   "cell_type": "code",
   "execution_count": null,
   "id": "d8db4d45-8b76-46b5-9a59-77755c2c310d",
   "metadata": {},
   "outputs": [],
   "source": [
    "#Create Series with Label from List\n",
    "val = [86, 56,  4, 24]\n",
    "label = []\n",
    "mth = pd.Series(val, index=label)\n",
    "mth[\"Andi\"]"
   ]
  },
  {
   "cell_type": "code",
   "execution_count": null,
   "id": "5f7c0faa-3e59-493e-8bc3-d62e13220d94",
   "metadata": {},
   "outputs": [],
   "source": [
    "#Create Series with Label from Dictionary\n",
    "val = {\"Andi\":86, \"Bambang\":56, \"Candra\": 4,\"Dido\":24}\n",
    "mth = pd.Series(val)\n",
    "mth[\"Andi\"]"
   ]
  },
  {
   "cell_type": "markdown",
   "id": "52700416-9a81-4370-a375-a53d77d40490",
   "metadata": {
    "tags": []
   },
   "source": [
    "# **04. Slicing Data**"
   ]
  },
  {
   "cell_type": "markdown",
   "id": "b2846392-3b01-4335-906e-aedf58a4837e",
   "metadata": {},
   "source": [
    "**Basic Operation and Function**"
   ]
  },
  {
   "cell_type": "code",
   "execution_count": null,
   "id": "fb087f06-eca8-45d4-b8b0-93cb9b0270ea",
   "metadata": {},
   "outputs": [],
   "source": [
    "data[0:5]                  # 0:5 row"
   ]
  },
  {
   "cell_type": "code",
   "execution_count": null,
   "id": "363bbfbf-d007-4ad5-9469-be9b508a6339",
   "metadata": {},
   "outputs": [],
   "source": [
    "data.Name                  # column of name"
   ]
  },
  {
   "cell_type": "code",
   "execution_count": null,
   "id": "f44fa277-3b8f-48bf-903e-a675bb3ef954",
   "metadata": {},
   "outputs": [],
   "source": [
    "data[\"Name\"]               # column of name "
   ]
  },
  {
   "cell_type": "code",
   "execution_count": null,
   "id": "fbdb2b36-eaa5-452a-88cf-8828eafe2f52",
   "metadata": {},
   "outputs": [],
   "source": [
    "data.Name[0:5]             # 0:5 row of name"
   ]
  },
  {
   "cell_type": "code",
   "execution_count": null,
   "id": "e05f567a-ffb6-461c-bbf3-61de1d7580bd",
   "metadata": {},
   "outputs": [],
   "source": [
    "data.head(5)               # 0:5 row"
   ]
  },
  {
   "cell_type": "code",
   "execution_count": null,
   "id": "e73f8c0c-e4de-4a98-93dc-b8be7bc8bebe",
   "metadata": {},
   "outputs": [],
   "source": [
    "data.tail(5)               #-6:-1 row"
   ]
  },
  {
   "cell_type": "markdown",
   "id": "d8c05b7b-d923-4dff-b1d7-f9822d170aae",
   "metadata": {},
   "source": [
    "**\\<loc> Function (Label Dependent)**"
   ]
  },
  {
   "cell_type": "code",
   "execution_count": null,
   "id": "08a1da39-84f0-4b93-96e1-967f42aa933d",
   "metadata": {},
   "outputs": [],
   "source": [
    "data.loc[1]                # 1 row (label)"
   ]
  },
  {
   "cell_type": "code",
   "execution_count": null,
   "id": "1ea7d134-de2f-4d3a-ae22-b36460a103e9",
   "metadata": {},
   "outputs": [],
   "source": [
    "data.loc[0:5]              # 0:5 row (label)"
   ]
  },
  {
   "cell_type": "code",
   "execution_count": null,
   "id": "f1c82996-d955-40d3-bc5f-672017903a01",
   "metadata": {},
   "outputs": [],
   "source": [
    "data.loc[[1,3,5]]          # row 1,3, and 5 (label)"
   ]
  },
  {
   "cell_type": "code",
   "execution_count": null,
   "id": "4a96e5fb-2122-4097-adde-7acb1d70c345",
   "metadata": {},
   "outputs": [],
   "source": [
    "data.loc[1:4,\"Mth\":\"Chm\"]  # row 1:4 and column Mth & Chm (label)"
   ]
  },
  {
   "cell_type": "markdown",
   "id": "b01d5039-ca7a-45da-92d0-e3906b307558",
   "metadata": {},
   "source": [
    "**\\<iloc> Function (Index Dependent)**"
   ]
  },
  {
   "cell_type": "code",
   "execution_count": null,
   "id": "170d1e21-8c4a-43f5-a78a-a2f0f7d819f0",
   "metadata": {},
   "outputs": [],
   "source": [
    "data.iloc[1]               # 1 row (Index)"
   ]
  },
  {
   "cell_type": "code",
   "execution_count": null,
   "id": "aefbe5f2-f342-4a74-972a-adb67871dea1",
   "metadata": {},
   "outputs": [],
   "source": [
    "data.iloc[[1,3,5]]         # row 1,3, and 5 (Index)"
   ]
  },
  {
   "cell_type": "code",
   "execution_count": null,
   "id": "72484eda-d22e-4053-9dea-6a8a8e06ac13",
   "metadata": {},
   "outputs": [],
   "source": [
    "data.iloc[1]               # 1 row (Index)"
   ]
  },
  {
   "cell_type": "code",
   "execution_count": null,
   "id": "24c5118f-66f9-4dc4-a25f-2b006fb6bee1",
   "metadata": {},
   "outputs": [],
   "source": [
    "data.iloc[1:4,1:3]         # row 1:4 and column Mth & Chm (Index)"
   ]
  },
  {
   "cell_type": "markdown",
   "id": "9f9919c2-5ab3-4c56-ac8e-59c7458e9629",
   "metadata": {},
   "source": [
    "**Data Frame with Index**"
   ]
  },
  {
   "cell_type": "code",
   "execution_count": null,
   "id": "3c2cf60a-bd3f-47f0-b952-6c66379735d9",
   "metadata": {
    "tags": []
   },
   "outputs": [],
   "source": [
    "newData = data.copy()\n",
    "newData.set_index(\"Name\", inplace=True)\n",
    "newData.loc[\"Andi\":\"Candra\"]"
   ]
  },
  {
   "cell_type": "code",
   "execution_count": null,
   "id": "02fc2a3e-3f8e-460c-9e2b-88899425c2da",
   "metadata": {},
   "outputs": [],
   "source": [
    "newData.index"
   ]
  },
  {
   "cell_type": "markdown",
   "id": "6ca24443-537c-4460-abf9-144c4e554cb2",
   "metadata": {
    "jp-MarkdownHeadingCollapsed": true,
    "tags": []
   },
   "source": [
    "# **05. Cleaning**"
   ]
  },
  {
   "cell_type": "code",
   "execution_count": null,
   "id": "c28aba7c-3e79-4660-bf74-f86ce57da0cf",
   "metadata": {},
   "outputs": [],
   "source": [
    "#Remove Row with NaN (as return function)\n",
    "cleanData = data.dropna()\n",
    "cleanData"
   ]
  },
  {
   "cell_type": "code",
   "execution_count": null,
   "id": "5aa9c578-3662-4b80-9dcb-4ca5ae689418",
   "metadata": {},
   "outputs": [],
   "source": [
    "#Remove Riw with NaN (as method)\n",
    "cleanData = data.copy()\n",
    "cleanData.dropna(inplace=True)\n",
    "cleanData"
   ]
  },
  {
   "cell_type": "code",
   "execution_count": null,
   "id": "e279c99b-7fcb-4ce8-8c1a-369b601cad19",
   "metadata": {},
   "outputs": [],
   "source": [
    "#Replace NaN with value\n",
    "cleanData = data.copy()\n",
    "cleanData.fillna(-1, inplace=True)\n",
    "cleanData"
   ]
  },
  {
   "cell_type": "code",
   "execution_count": null,
   "id": "453daa64-4f52-4861-a578-5353bea25ec2",
   "metadata": {
    "tags": []
   },
   "outputs": [],
   "source": [
    "#Replace NaN with value at spesivic column\n",
    "cleanData = data.copy()\n",
    "cleanData.Chm.fillna(0, inplace=True)\n",
    "cleanData"
   ]
  },
  {
   "cell_type": "markdown",
   "id": "ba1b315a-07fb-4179-9706-2a539029209a",
   "metadata": {
    "jp-MarkdownHeadingCollapsed": true,
    "tags": []
   },
   "source": [
    "# **06. Remove Duplicate**"
   ]
  },
  {
   "cell_type": "code",
   "execution_count": null,
   "id": "d793e434-5d1d-4584-834d-41ec6d60ab49",
   "metadata": {},
   "outputs": [],
   "source": [
    "#Remove Duplicat (Exact)\n",
    "cleanData = data.copy()\n",
    "cleanData.drop_duplicates(inplace=True)\n",
    "cleanData"
   ]
  },
  {
   "cell_type": "code",
   "execution_count": null,
   "id": "fca6d608-d27c-49d9-8ec5-1226ed120d79",
   "metadata": {},
   "outputs": [],
   "source": [
    "#Remove Duplicat (spesific column)\n",
    "cleanData = data.copy()\n",
    "cleanData = cleanData[cleanData.Name.duplicated()==False]\n",
    "cleanData"
   ]
  },
  {
   "cell_type": "markdown",
   "id": "c5ec2ca4-d617-464b-984d-c5ec16aad6bd",
   "metadata": {
    "tags": []
   },
   "source": [
    "# **07. Filtering**"
   ]
  },
  {
   "cell_type": "code",
   "execution_count": null,
   "id": "d8be13e7-16e7-412f-804c-7636304d8d2d",
   "metadata": {},
   "outputs": [],
   "source": [
    "localData = data.copy()\n",
    "localData = localData[localData.Name.duplicated()==False]\n",
    "localData.dropna(inplace=True)\n",
    "localData"
   ]
  },
  {
   "cell_type": "code",
   "execution_count": null,
   "id": "b044d611-bdb8-4bf4-9706-634c99eff889",
   "metadata": {},
   "outputs": [],
   "source": [
    "#Logical Operatir\n",
    "# >  <  >=  <=  ==  !=\n",
    "newData = localData[localData.Mth >= 50]\n",
    "newData"
   ]
  },
  {
   "cell_type": "code",
   "execution_count": null,
   "id": "fb180b38-34b3-4485-981d-c9d1bc734c75",
   "metadata": {},
   "outputs": [],
   "source": [
    "#Multiple Logical Operatir\n",
    "# &(and)  |(or)  ~(tilde/not)\n",
    "localData[  (localData.Mth >= 50) & ~(localData.Chm >= 50)  ]"
   ]
  },
  {
   "cell_type": "code",
   "execution_count": null,
   "id": "79da2c74-42d5-4edd-ae94-0b8ec75eb307",
   "metadata": {},
   "outputs": [],
   "source": [
    "# <isin> Method of Column\n",
    "name = [\"Andi\",\"Bambang\",\"Candra\"]\n",
    "localData[localData.Name.isin(name)==False]"
   ]
  },
  {
   "cell_type": "code",
   "execution_count": null,
   "id": "b9723183-883e-4ab6-bab0-41ef8882ac81",
   "metadata": {},
   "outputs": [],
   "source": [
    "# <startswith> Str Accessor\n",
    "localData[localData.Name.str.startswith('B')]"
   ]
  },
  {
   "cell_type": "code",
   "execution_count": null,
   "id": "2a58e7b2-00e2-45e4-ae81-7277f8dfff30",
   "metadata": {},
   "outputs": [],
   "source": [
    "# <contains> Str Accessor\n",
    "localData[localData.Name.str.contains('a')]"
   ]
  },
  {
   "cell_type": "code",
   "execution_count": null,
   "id": "230c7a75-b4cd-40e8-a8e1-cee08750c8f9",
   "metadata": {},
   "outputs": [],
   "source": [
    "# <query> Function\n",
    "localData.query(\" Mth>50 and Phy>=70\")"
   ]
  },
  {
   "cell_type": "code",
   "execution_count": null,
   "id": "f65556d9-9b40-4bf6-a1c2-ccf9b847e867",
   "metadata": {},
   "outputs": [],
   "source": [
    "# <nlargest> Function\n",
    "localData.nlargest(3,\"Mth\")"
   ]
  },
  {
   "cell_type": "code",
   "execution_count": null,
   "id": "efa8e91f-a7ad-46f7-9652-607e87c40cc4",
   "metadata": {},
   "outputs": [],
   "source": [
    "# <nlargest> Function\n",
    "localData.nsmallest(3,\"Mth\")"
   ]
  },
  {
   "cell_type": "markdown",
   "id": "b3271e84-8857-4aa1-9867-08af1da89c4c",
   "metadata": {
    "tags": []
   },
   "source": [
    "# **08. Modifie Value**"
   ]
  },
  {
   "cell_type": "code",
   "execution_count": 40,
   "id": "0376a346-0e2f-4883-8b95-4a8f6659d392",
   "metadata": {},
   "outputs": [
    {
     "data": {
      "text/html": [
       "<div>\n",
       "<style scoped>\n",
       "    .dataframe tbody tr th:only-of-type {\n",
       "        vertical-align: middle;\n",
       "    }\n",
       "\n",
       "    .dataframe tbody tr th {\n",
       "        vertical-align: top;\n",
       "    }\n",
       "\n",
       "    .dataframe thead th {\n",
       "        text-align: right;\n",
       "    }\n",
       "</style>\n",
       "<table border=\"1\" class=\"dataframe\">\n",
       "  <thead>\n",
       "    <tr style=\"text-align: right;\">\n",
       "      <th></th>\n",
       "      <th>Name</th>\n",
       "      <th>Mth</th>\n",
       "      <th>Phy</th>\n",
       "      <th>Chm</th>\n",
       "      <th>Bio</th>\n",
       "    </tr>\n",
       "  </thead>\n",
       "  <tbody>\n",
       "    <tr>\n",
       "      <th>0</th>\n",
       "      <td>Andi</td>\n",
       "      <td>86</td>\n",
       "      <td>62</td>\n",
       "      <td>43.0</td>\n",
       "      <td>23</td>\n",
       "    </tr>\n",
       "    <tr>\n",
       "      <th>1</th>\n",
       "      <td>Bambang</td>\n",
       "      <td>56</td>\n",
       "      <td>75</td>\n",
       "      <td>53.0</td>\n",
       "      <td>85</td>\n",
       "    </tr>\n",
       "    <tr>\n",
       "      <th>2</th>\n",
       "      <td>Candra</td>\n",
       "      <td>4</td>\n",
       "      <td>75</td>\n",
       "      <td>42.0</td>\n",
       "      <td>21</td>\n",
       "    </tr>\n",
       "    <tr>\n",
       "      <th>3</th>\n",
       "      <td>Dido</td>\n",
       "      <td>24</td>\n",
       "      <td>52</td>\n",
       "      <td>12.0</td>\n",
       "      <td>52</td>\n",
       "    </tr>\n",
       "    <tr>\n",
       "      <th>7</th>\n",
       "      <td>Gandi</td>\n",
       "      <td>70</td>\n",
       "      <td>70</td>\n",
       "      <td>70.0</td>\n",
       "      <td>70</td>\n",
       "    </tr>\n",
       "  </tbody>\n",
       "</table>\n",
       "</div>"
      ],
      "text/plain": [
       "      Name  Mth  Phy   Chm  Bio\n",
       "0     Andi   86   62  43.0   23\n",
       "1  Bambang   56   75  53.0   85\n",
       "2   Candra    4   75  42.0   21\n",
       "3     Dido   24   52  12.0   52\n",
       "7    Gandi   70   70  70.0   70"
      ]
     },
     "execution_count": 40,
     "metadata": {},
     "output_type": "execute_result"
    }
   ],
   "source": [
    "localData = data.copy()\n",
    "localData = localData[localData.Name.duplicated()==False]\n",
    "localData.dropna(inplace=True)\n",
    "localData"
   ]
  },
  {
   "cell_type": "code",
   "execution_count": null,
   "id": "91ed545e-9e6a-4a11-bfca-1767cc57470b",
   "metadata": {},
   "outputs": [],
   "source": [
    "#Change Value\n",
    "modData = localData.copy()\n",
    "for idx in modData.index:\n",
    "    modData.loc[idx,\"Name\"] = \"yo\"\n",
    "modData"
   ]
  },
  {
   "cell_type": "code",
   "execution_count": null,
   "id": "e3fd8941-bc5f-42e2-837f-6da57bceb6b1",
   "metadata": {},
   "outputs": [],
   "source": [
    "#Add New Column\n",
    "modData = localData.copy()\n",
    "for idx in modData.index:\n",
    "    modData.loc[idx,\"Avarage\"] = sum(modData.loc[idx,'Mth':'Bio'])/4\n",
    "modData"
   ]
  },
  {
   "cell_type": "code",
   "execution_count": null,
   "id": "989e34c0-d990-4f5c-9553-adace4e2b3f0",
   "metadata": {},
   "outputs": [],
   "source": [
    "#Convert To Numeric\n",
    "localData.Mth = localData.Mth.astype('Int64')"
   ]
  },
  {
   "cell_type": "code",
   "execution_count": null,
   "id": "fef0c487-3273-492f-8c13-96e8e947bb8a",
   "metadata": {},
   "outputs": [],
   "source": [
    "#Conver to datetime\n",
    "#localData.Lahir = localData.Lahir.astype('datetime64')\n",
    "#Use aksesor \".dt\" to acces atribute\n",
    "#    localData.loc[localData.Lahir.dt.month]"
   ]
  },
  {
   "cell_type": "markdown",
   "id": "fb0880f1-a3b1-4a87-82f0-7b21e2a1e9c9",
   "metadata": {
    "jp-MarkdownHeadingCollapsed": true,
    "tags": []
   },
   "source": [
    "# **09. Sort-ing**"
   ]
  },
  {
   "cell_type": "code",
   "execution_count": 18,
   "id": "1c1ea448-5ce0-49f8-8bb9-74a1c8685ce4",
   "metadata": {},
   "outputs": [
    {
     "data": {
      "text/html": [
       "<div>\n",
       "<style scoped>\n",
       "    .dataframe tbody tr th:only-of-type {\n",
       "        vertical-align: middle;\n",
       "    }\n",
       "\n",
       "    .dataframe tbody tr th {\n",
       "        vertical-align: top;\n",
       "    }\n",
       "\n",
       "    .dataframe thead th {\n",
       "        text-align: right;\n",
       "    }\n",
       "</style>\n",
       "<table border=\"1\" class=\"dataframe\">\n",
       "  <thead>\n",
       "    <tr style=\"text-align: right;\">\n",
       "      <th></th>\n",
       "      <th>Name</th>\n",
       "      <th>Mth</th>\n",
       "      <th>Phy</th>\n",
       "      <th>Chm</th>\n",
       "      <th>Bio</th>\n",
       "    </tr>\n",
       "  </thead>\n",
       "  <tbody>\n",
       "    <tr>\n",
       "      <th>4</th>\n",
       "      <td>Dido</td>\n",
       "      <td>74</td>\n",
       "      <td>24</td>\n",
       "      <td>74.0</td>\n",
       "      <td>32</td>\n",
       "    </tr>\n",
       "    <tr>\n",
       "      <th>7</th>\n",
       "      <td>Gandi</td>\n",
       "      <td>70</td>\n",
       "      <td>70</td>\n",
       "      <td>70.0</td>\n",
       "      <td>70</td>\n",
       "    </tr>\n",
       "    <tr>\n",
       "      <th>1</th>\n",
       "      <td>Bambang</td>\n",
       "      <td>56</td>\n",
       "      <td>75</td>\n",
       "      <td>53.0</td>\n",
       "      <td>85</td>\n",
       "    </tr>\n",
       "    <tr>\n",
       "      <th>6</th>\n",
       "      <td>NaN</td>\n",
       "      <td>34</td>\n",
       "      <td>45</td>\n",
       "      <td>52.0</td>\n",
       "      <td>14</td>\n",
       "    </tr>\n",
       "    <tr>\n",
       "      <th>0</th>\n",
       "      <td>Andi</td>\n",
       "      <td>86</td>\n",
       "      <td>62</td>\n",
       "      <td>43.0</td>\n",
       "      <td>23</td>\n",
       "    </tr>\n",
       "    <tr>\n",
       "      <th>2</th>\n",
       "      <td>Candra</td>\n",
       "      <td>4</td>\n",
       "      <td>75</td>\n",
       "      <td>42.0</td>\n",
       "      <td>21</td>\n",
       "    </tr>\n",
       "    <tr>\n",
       "      <th>3</th>\n",
       "      <td>Dido</td>\n",
       "      <td>24</td>\n",
       "      <td>52</td>\n",
       "      <td>12.0</td>\n",
       "      <td>52</td>\n",
       "    </tr>\n",
       "    <tr>\n",
       "      <th>5</th>\n",
       "      <td>Erik</td>\n",
       "      <td>23</td>\n",
       "      <td>64</td>\n",
       "      <td>NaN</td>\n",
       "      <td>31</td>\n",
       "    </tr>\n",
       "  </tbody>\n",
       "</table>\n",
       "</div>"
      ],
      "text/plain": [
       "      Name  Mth  Phy   Chm  Bio\n",
       "4     Dido   74   24  74.0   32\n",
       "7    Gandi   70   70  70.0   70\n",
       "1  Bambang   56   75  53.0   85\n",
       "6      NaN   34   45  52.0   14\n",
       "0     Andi   86   62  43.0   23\n",
       "2   Candra    4   75  42.0   21\n",
       "3     Dido   24   52  12.0   52\n",
       "5     Erik   23   64   NaN   31"
      ]
     },
     "execution_count": 18,
     "metadata": {},
     "output_type": "execute_result"
    }
   ],
   "source": [
    "dataSort = data.sort_values(\"Chm\",ascending=False)\n",
    "dataSort"
   ]
  },
  {
   "cell_type": "markdown",
   "id": "883c8987-774b-4d16-bb68-68541aa0f76c",
   "metadata": {
    "tags": []
   },
   "source": [
    "# **10. Data Propertirs**"
   ]
  },
  {
   "cell_type": "code",
   "execution_count": 23,
   "id": "2cd4ad84-ea84-4b11-9541-434113c6bd26",
   "metadata": {},
   "outputs": [
    {
     "name": "stdout",
     "output_type": "stream",
     "text": [
      "<class 'pandas.core.frame.DataFrame'>\n",
      "RangeIndex: 8 entries, 0 to 7\n",
      "Data columns (total 5 columns):\n",
      " #   Column  Non-Null Count  Dtype  \n",
      "---  ------  --------------  -----  \n",
      " 0   Name    7 non-null      object \n",
      " 1   Mth     8 non-null      int64  \n",
      " 2   Phy     8 non-null      int64  \n",
      " 3   Chm     7 non-null      float64\n",
      " 4   Bio     8 non-null      int64  \n",
      "dtypes: float64(1), int64(3), object(1)\n",
      "memory usage: 352.0+ bytes\n"
     ]
    }
   ],
   "source": [
    "data.info()"
   ]
  },
  {
   "cell_type": "code",
   "execution_count": 28,
   "id": "4463351b-c6f0-4efb-9949-14f0a5334536",
   "metadata": {},
   "outputs": [
    {
     "data": {
      "text/plain": [
       "40"
      ]
     },
     "execution_count": 28,
     "metadata": {},
     "output_type": "execute_result"
    }
   ],
   "source": [
    "#Total data\n",
    "data.size"
   ]
  },
  {
   "cell_type": "code",
   "execution_count": 27,
   "id": "da196b58-0e83-48b8-b686-a729770d190d",
   "metadata": {},
   "outputs": [
    {
     "data": {
      "text/plain": [
       "8"
      ]
     },
     "execution_count": 27,
     "metadata": {},
     "output_type": "execute_result"
    }
   ],
   "source": [
    "#number of row\n",
    "len(data)"
   ]
  },
  {
   "cell_type": "code",
   "execution_count": 26,
   "id": "a7e7101a-4893-4297-9120-f518f0f55478",
   "metadata": {},
   "outputs": [
    {
     "data": {
      "text/plain": [
       "5"
      ]
     },
     "execution_count": 26,
     "metadata": {},
     "output_type": "execute_result"
    }
   ],
   "source": [
    "#number of column\n",
    "len(data.columns)"
   ]
  },
  {
   "cell_type": "code",
   "execution_count": 29,
   "id": "6284c2d0-6853-470b-8916-369f155cf5c2",
   "metadata": {},
   "outputs": [
    {
     "data": {
      "text/plain": [
       "(8, 5)"
      ]
     },
     "execution_count": 29,
     "metadata": {},
     "output_type": "execute_result"
    }
   ],
   "source": [
    "#Data Dimention\n",
    "data.shape"
   ]
  },
  {
   "cell_type": "markdown",
   "id": "a8037042-2395-43b3-9725-9270d0090a90",
   "metadata": {
    "tags": []
   },
   "source": [
    "# **XX. Other**"
   ]
  },
  {
   "cell_type": "code",
   "execution_count": 5,
   "id": "5b3d85e8-ae49-403e-9877-8b7cbc7a2cd7",
   "metadata": {},
   "outputs": [
    {
     "data": {
      "text/html": [
       "<div>\n",
       "<style scoped>\n",
       "    .dataframe tbody tr th:only-of-type {\n",
       "        vertical-align: middle;\n",
       "    }\n",
       "\n",
       "    .dataframe tbody tr th {\n",
       "        vertical-align: top;\n",
       "    }\n",
       "\n",
       "    .dataframe thead th {\n",
       "        text-align: right;\n",
       "    }\n",
       "</style>\n",
       "<table border=\"1\" class=\"dataframe\">\n",
       "  <thead>\n",
       "    <tr style=\"text-align: right;\">\n",
       "      <th></th>\n",
       "      <th>Mth</th>\n",
       "      <th>Phy</th>\n",
       "      <th>Chm</th>\n",
       "      <th>Bio</th>\n",
       "    </tr>\n",
       "  </thead>\n",
       "  <tbody>\n",
       "    <tr>\n",
       "      <th>Mth</th>\n",
       "      <td>1.000000</td>\n",
       "      <td>-0.251704</td>\n",
       "      <td>0.559447</td>\n",
       "      <td>0.252793</td>\n",
       "    </tr>\n",
       "    <tr>\n",
       "      <th>Phy</th>\n",
       "      <td>-0.251704</td>\n",
       "      <td>1.000000</td>\n",
       "      <td>-0.211567</td>\n",
       "      <td>0.390703</td>\n",
       "    </tr>\n",
       "    <tr>\n",
       "      <th>Chm</th>\n",
       "      <td>0.559447</td>\n",
       "      <td>-0.211567</td>\n",
       "      <td>1.000000</td>\n",
       "      <td>0.094181</td>\n",
       "    </tr>\n",
       "    <tr>\n",
       "      <th>Bio</th>\n",
       "      <td>0.252793</td>\n",
       "      <td>0.390703</td>\n",
       "      <td>0.094181</td>\n",
       "      <td>1.000000</td>\n",
       "    </tr>\n",
       "  </tbody>\n",
       "</table>\n",
       "</div>"
      ],
      "text/plain": [
       "          Mth       Phy       Chm       Bio\n",
       "Mth  1.000000 -0.251704  0.559447  0.252793\n",
       "Phy -0.251704  1.000000 -0.211567  0.390703\n",
       "Chm  0.559447 -0.211567  1.000000  0.094181\n",
       "Bio  0.252793  0.390703  0.094181  1.000000"
      ]
     },
     "execution_count": 5,
     "metadata": {},
     "output_type": "execute_result"
    }
   ],
   "source": [
    "data.corr()"
   ]
  },
  {
   "cell_type": "code",
   "execution_count": 6,
   "id": "c8aa05fb-3c96-4cff-958a-43ab80ae7d9b",
   "metadata": {},
   "outputs": [
    {
     "data": {
      "text/plain": [
       "-0.2517036612094818"
      ]
     },
     "execution_count": 6,
     "metadata": {},
     "output_type": "execute_result"
    }
   ],
   "source": [
    "data.Mth.corr( data.Phy )"
   ]
  },
  {
   "cell_type": "code",
   "execution_count": null,
   "id": "73af2f0c-b591-4448-9c0d-02867c841a57",
   "metadata": {},
   "outputs": [],
   "source": []
  }
 ],
 "metadata": {
  "kernelspec": {
   "display_name": "Python 3 (ipykernel)",
   "language": "python",
   "name": "python3"
  },
  "language_info": {
   "codemirror_mode": {
    "name": "ipython",
    "version": 3
   },
   "file_extension": ".py",
   "mimetype": "text/x-python",
   "name": "python",
   "nbconvert_exporter": "python",
   "pygments_lexer": "ipython3",
   "version": "3.8.1"
  }
 },
 "nbformat": 4,
 "nbformat_minor": 5
}
